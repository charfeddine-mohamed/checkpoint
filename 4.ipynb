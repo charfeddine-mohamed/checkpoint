for f in range (2000,3201):
    if f%7==0 and not(f%5==0):
        print(f)
    else :
         continue
         
    
