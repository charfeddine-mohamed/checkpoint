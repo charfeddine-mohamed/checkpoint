firstname=str(input("enter your first name : "))
lastname=str(input("enter your last name : "))
a=" "
print(lastname+a+firstname)
