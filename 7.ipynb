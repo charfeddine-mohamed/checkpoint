price=int(input("enter the product price : "))
discount1=int(price/2)
discount2=int((price/100)*70)
discount3=int((price/100)*90)
if price >= 500 :
    print (discount1)
if 200<= price <500 :
    print(discount2)
if  price<200 :
    print (discount3)

