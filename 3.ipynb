number=int(input("enter a random number : "))
if int((number%2))==1 :
    print("the number is odd")
else:
    print("the number is even")
