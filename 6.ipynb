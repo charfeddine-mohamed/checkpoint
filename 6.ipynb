sentence= str(input("enter a sentence : "))
a=sentence[0:len(sentence):2]
print(a)
