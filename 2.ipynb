number=int(input("enter a number"))
sum=int((number*100)+(number*10*2)+(number*3))
print(sum)
